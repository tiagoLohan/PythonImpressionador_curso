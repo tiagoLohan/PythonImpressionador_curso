{
 "cells": [
  {
   "cell_type": "markdown",
   "metadata": {},
   "source": [
    "# Exercícios\n",
    "\n",
    "## 1. Faturamento do Melhor e do Pior Mês do Ano\n",
    "\n",
    "Qual foi o valor de vendas do melhor mês do Ano?\n",
    "E valor do pior mês do ano?"
   ]
  },
  {
   "cell_type": "code",
   "execution_count": 41,
   "metadata": {},
   "outputs": [
    {
     "name": "stdout",
     "output_type": "stream",
     "text": [
      "Melhor: 49051\n",
      "Pior: 9650\n"
     ]
    }
   ],
   "source": [
    "meses = ['jan', 'fev', 'mar', 'abr', 'mai', 'jun', 'jul', 'ago', 'set', 'out', 'nov', 'dez']\n",
    "vendas_1sem = [25000, 29000, 22200, 17750, 15870, 19900]\n",
    "vendas_2sem = [19850, 20120, 17540, 15555, 49051, 9650]\n",
    "\n",
    "vendas_total  = vendas_1sem + vendas_2sem\n",
    "\n",
    "melhor_valor = max(vendas_total)\n",
    "pior_valor = min(vendas_total)\n",
    "\n",
    "print(f\"Melhor: {melhor_valor}\")\n",
    "print(f\"Pior: {pior_valor}\")\n"
   ]
  },
  {
   "cell_type": "markdown",
   "metadata": {},
   "source": [
    "## 2. Continuação\n",
    "\n",
    "Agora relacione as duas listas para printar 'O melhor mês do ano foi {} com {} vendas' e o mesmo para o pior mês do ano.\n",
    "\n",
    "Calcule também o faturamento total do Ano e quanto que o melhor mês representou do faturamento total.\n",
    "\n",
    "Obs: Para o faturamento total, pode usar a função sum(lista) que soma todos os itens de uma lista"
   ]
  },
  {
   "cell_type": "code",
   "execution_count": 39,
   "metadata": {},
   "outputs": [
    {
     "name": "stdout",
     "output_type": "stream",
     "text": [
      "O melhor mês do ano foi 'nov', com 49051 vendas, e o pior mês foi 'dez' com 9650 vendas.\n",
      "O faturamento total do ano foi de R$261.486 e melhor mês representou 18.8% do faturamento total.\n"
     ]
    }
   ],
   "source": [
    "melhor_mes = meses[vendas_total.index(melhor_valor)]\n",
    "pior_mes = meses[vendas_total.index(pior_valor)]\n",
    "\n",
    "print(f\"O melhor mês do ano foi '{melhor_mes}', com {melhor_valor} vendas, e o pior mês foi '{pior_mes}' com {pior_valor} vendas.\")\n",
    "\n",
    "valor_total = f\"{sum(vendas_total):_}\".replace(\"_\", \".\")\n",
    "\n",
    "t = melhor_valor / sum(vendas_total)\n",
    "\n",
    "print(f\"O faturamento total do ano foi de R${valor_total} e melhor mês representou {t:.1%} do faturamento total.\")\n",
    "\n"
   ]
  },
  {
   "cell_type": "markdown",
   "metadata": {},
   "source": [
    "## 3. Crie uma lista com o top 3 valores de vendas do ano (sem fazer \"no olho\")\n",
    "\n",
    "Dica: o método remove retira um item da lista."
   ]
  },
  {
   "cell_type": "code",
   "execution_count": 42,
   "metadata": {},
   "outputs": [
    {
     "name": "stdout",
     "output_type": "stream",
     "text": [
      "[49051]\n",
      "[49051, 29000]\n",
      "[49051, 29000, 25000]\n"
     ]
    }
   ],
   "source": [
    "top3 = []\n",
    "\n",
    "maior = max(vendas_total)\n",
    "top3.append(maior)\n",
    "vendas_total.remove(maior)\n",
    "print(top3)\n",
    "\n",
    "maior = max(vendas_total)\n",
    "top3.append(maior)\n",
    "vendas_total.remove(maior)\n",
    "print(top3)\n",
    "\n",
    "maior = max(vendas_total)\n",
    "top3.append(maior)\n",
    "vendas_total.remove(maior)\n",
    "print(top3)\n"
   ]
  }
 ],
 "metadata": {
  "kernelspec": {
   "display_name": "Python 3",
   "language": "python",
   "name": "python3"
  },
  "language_info": {
   "codemirror_mode": {
    "name": "ipython",
    "version": 3
   },
   "file_extension": ".py",
   "mimetype": "text/x-python",
   "name": "python",
   "nbconvert_exporter": "python",
   "pygments_lexer": "ipython3",
   "version": "3.12.5"
  }
 },
 "nbformat": 4,
 "nbformat_minor": 4
}

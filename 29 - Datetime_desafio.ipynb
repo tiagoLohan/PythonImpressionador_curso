{
 "cells": [
  {
   "cell_type": "markdown",
   "metadata": {},
   "source": [
    "## Calculando a idade\n",
    "\n",
    "Um usuário fornece sua data de nascimento no formato \"dd/mm/aaaa\". Crie um script Python que calcula a idade do usuário.\n"
   ]
  },
  {
   "cell_type": "code",
   "execution_count": 10,
   "metadata": {},
   "outputs": [
    {
     "name": "stdout",
     "output_type": "stream",
     "text": [
      "A idade atual é 35 anos.\n"
     ]
    }
   ],
   "source": [
    "from datetime import datetime\n",
    "\n",
    "data_nascimento_input = input(\"Digite sua data de nascimento (dd/mm/aaaa)\")\n",
    "\n",
    "data_nascimento = datetime.strptime(data_nascimento_input, \"%d/%m/%Y\")\n",
    "\n",
    "def calcular_idade(data_de_nasc: datetime):\n",
    "  hoje = datetime.now()\n",
    "  diferenca_dias = hoje - data_de_nasc\n",
    "  idade = diferenca_dias.days / 365\n",
    "  return int(idade)\n",
    "\n",
    "\n",
    "\n",
    "print(f\"A idade atual é {calcular_idade(data_nascimento)} anos.\")\n",
    "\n"
   ]
  }
 ],
 "metadata": {
  "kernelspec": {
   "display_name": "Python 3",
   "language": "python",
   "name": "python3"
  },
  "language_info": {
   "codemirror_mode": {
    "name": "ipython",
    "version": 3
   },
   "file_extension": ".py",
   "mimetype": "text/x-python",
   "name": "python",
   "nbconvert_exporter": "python",
   "pygments_lexer": "ipython3",
   "version": "3.12.5"
  }
 },
 "nbformat": 4,
 "nbformat_minor": 4
}

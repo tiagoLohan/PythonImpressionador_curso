{
 "cells": [
  {
   "cell_type": "markdown",
   "metadata": {},
   "source": [
    "# Exercícios\n",
    "\n",
    "## 1. Criando um Registro de Hóspedes\n",
    "\n",
    "Digamos que você está criando o sistema para registrar a chegada de hóspedes em um hotel. No hotel, os hóspedes podem ter quartos com 1, 2, 3 e 4 pessoas. Seu sistema deve conseguir:\n",
    "\n",
    "1. Identificar quantas pessoas o hóspede que acabou de chegar vai ter no quarto (perguntando por meio de input)\n",
    "2. De acordo com a quantidade de pessoas do hóspede, ele deve fazer um for para perguntar o cpf e o nome de cada pessoa, a fim de registrá-la no quarto (2 inputs para cada pessoa, 1 para o cpf e outro para o nome)\n",
    "3. O seu programa então deve gerar uma lista com todas as pessoas que ficarão no quarto em que cada item dessa lista é o nome da pessoa e o cpf da pessoa, assim:"
   ]
  },
  {
   "cell_type": "raw",
   "metadata": {
    "vscode": {
     "languageId": "raw"
    }
   },
   "source": [
    "quarto = [\n",
    "    ['João', 'cpf:00000000000'],\n",
    "    ['Julia', 'cpf:11111111111'],\n",
    "    ['Marcus', 'cpf:22222222222'],\n",
    "    ['Maria', 'cpf:33333333333'],\n",
    "]\n"
   ]
  },
  {
   "cell_type": "markdown",
   "metadata": {},
   "source": [
    "- Para simplificar, não vamos nos preocupar com possibilidades de \"tentar colocar mais de 1 hóspede, digitar o cpf errado, etc. Nosso objetivo é treinar a criação de uma rotina de cadastro"
   ]
  },
  {
   "cell_type": "code",
   "execution_count": 7,
   "metadata": {},
   "outputs": [
    {
     "name": "stdout",
     "output_type": "stream",
     "text": [
      "********** LISTA DE HÓSPEDES DO QUARTO **********\n",
      "\n",
      "['Tiago', 'cpf:884198181']\n",
      "['Monica', 'cpf:48464']\n",
      "['Caio', 'cpf:51564455']\n",
      "['Hanniel', 'cpf:515165161']\n",
      "['Sandro', 'cpf:78851']\n"
     ]
    }
   ],
   "source": [
    "#seu código aqui\n",
    "\n",
    "qtd = int(input(\"Quantas pessoas irão de hospedar no quarto\"))\n",
    "quarto = []\n",
    "\n",
    "for hospede in range(qtd):\n",
    "  nome = input(f\"Digite o nome do {hospede+1}º hospede\")\n",
    "  cpf = input(f\"Digite o CPF do {hospede+1}º hóspede\")\n",
    "  dado = [nome, f\"cpf:{cpf}\"]\n",
    "  quarto.append(dado)\n",
    "\n",
    "print(\"********** LISTA DE HÓSPEDES DO QUARTO **********\")\n",
    "print()\n",
    "print(*quarto, sep=\"\\n\")\n"
   ]
  },
  {
   "cell_type": "markdown",
   "metadata": {},
   "source": [
    "## 2. Análise de Vendas\n",
    "\n",
    "Nesse exercício vamos fazer uma \"análise simples\" de atingimento de Meta.\n",
    "\n",
    "Temos uma lista com os vendedores e os valores de vendas e queremos identificar (printar) quais os vendedores que bateram a meta e qual foi o valor que eles venderam."
   ]
  },
  {
   "cell_type": "code",
   "execution_count": 8,
   "metadata": {},
   "outputs": [
    {
     "name": "stdout",
     "output_type": "stream",
     "text": [
      "O vendedor João bateu a meta, tendo um total de 15,000 em vendas.\n",
      "O vendedor Julia bateu a meta, tendo um total de 27,000 em vendas.\n",
      "O vendedor Ana bateu a meta, tendo um total de 10,300 em vendas.\n"
     ]
    }
   ],
   "source": [
    "meta = 10000\n",
    "vendas = [\n",
    "    ['João', 15000],\n",
    "    ['Julia', 27000],\n",
    "    ['Marcus', 9900],\n",
    "    ['Maria', 3750],\n",
    "    ['Ana', 10300],\n",
    "    ['Alon', 7870],\n",
    "]\n",
    "#seu código aqui\n",
    "\n",
    "for venda in vendas:\n",
    "  if venda[1] >= meta:\n",
    "    print(f\"O vendedor {venda[0]} bateu a meta, tendo um total de {venda[1]:,} em vendas.\")"
   ]
  },
  {
   "cell_type": "markdown",
   "metadata": {},
   "source": [
    "## 3. Comparação com Ano Anterior\n",
    "\n",
    "Digamos que você está analisando as vendas de produtos de um ecommerce e quer identificar quais produtos tiveram no ano de 2020 mais vendas do que no ano de 2019, para reportar isso para a diretoria.\n",
    "\n",
    "Sua resposta pode ser um print de cada produto, qual foi a venda de 2019, a venda de 2020 e o % de crescimento de 2020 para 2019.\n",
    "\n",
    "Lembrando, para calcular o % de crescimento de um produto de um ano para o outro, podemos fazer: (vendas_produto2020/vendas_produto2019 - 1)\n",
    "\n",
    "Dica: lembre do enumerate, ele pode facilitar seu \"for\""
   ]
  },
  {
   "cell_type": "code",
   "execution_count": 9,
   "metadata": {},
   "outputs": [
    {
     "name": "stdout",
     "output_type": "stream",
     "text": [
      "Tivemos um aumento de 71% nas vendas de iphone no comparativo de 2020 para 2019. (951,642 x 558,147)\n",
      "Tivemos um aumento de 94% nas vendas de tv no comparativo de 2020 para 2019. (787,604 x 405,252)\n",
      "Tivemos um aumento de 21% nas vendas de máquina de café no comparativo de 2020 para 2019. (867,660 x 718,654)\n",
      "Tivemos um aumento de 64% nas vendas de notebook dell no comparativo de 2020 para 2019. (694,913 x 422,760)\n",
      "Tivemos um aumento de 249% nas vendas de notebook hp no comparativo de 2020 para 2019. (539,704 x 154,753)\n",
      "Tivemos um aumento de 52% nas vendas de microsoft surface no comparativo de 2020 para 2019. (667,179 x 438,508)\n",
      "Tivemos um aumento de 24% nas vendas de webcam no comparativo de 2020 para 2019. (295,633 x 237,467)\n",
      "Tivemos um aumento de 48% nas vendas de caixa de som no comparativo de 2020 para 2019. (725,316 x 489,705)\n",
      "Tivemos um aumento de 96% nas vendas de microfone no comparativo de 2020 para 2019. (644,622 x 328,311)\n",
      "Tivemos um aumento de 68% nas vendas de câmera canon no comparativo de 2020 para 2019. (994,303 x 591,120)\n"
     ]
    }
   ],
   "source": [
    "produtos = ['iphone', 'galaxy', 'ipad', 'tv', 'máquina de café', 'kindle', 'geladeira', 'adega', 'notebook dell', 'notebook hp', 'notebook asus', 'microsoft surface', 'webcam', 'caixa de som', 'microfone', 'câmera canon']\n",
    "vendas2019 = [558147,712350,573823,405252,718654,531580,973139,892292,422760,154753,887061,438508,237467,489705,328311,591120]\n",
    "vendas2020 = [951642,244295,26964,787604,867660,78830,710331,646016,694913,539704,324831,667179,295633,725316,644622,994303]\n",
    "#seu código aqui\n",
    "\n",
    "\n",
    "for i, produto in enumerate(produtos):\n",
    "  if vendas2020[i] > vendas2019[i]:\n",
    "    percent = (vendas2020[i] / vendas2019[i]) - 1\n",
    "    print(f\"Tivemos um aumento de {percent:.0%} nas vendas de {produto} no comparativo de 2020 para 2019. ({vendas2020[i]:,} x {vendas2019[i]:,})\")\n",
    "\n"
   ]
  }
 ],
 "metadata": {
  "kernelspec": {
   "display_name": "Python 3",
   "language": "python",
   "name": "python3"
  },
  "language_info": {
   "codemirror_mode": {
    "name": "ipython",
    "version": 3
   },
   "file_extension": ".py",
   "mimetype": "text/x-python",
   "name": "python",
   "nbconvert_exporter": "python",
   "pygments_lexer": "ipython3",
   "version": "3.12.5"
  }
 },
 "nbformat": 4,
 "nbformat_minor": 4
}

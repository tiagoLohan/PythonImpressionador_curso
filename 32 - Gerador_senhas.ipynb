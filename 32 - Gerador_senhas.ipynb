{
 "cells": [
  {
   "cell_type": "markdown",
   "id": "74b1c214-34d8-43a1-867b-1055887eca93",
   "metadata": {},
   "source": [
    "Escreva um programa que gere uma senha aleatória com um determinado comprimento. A senha deve conter uma mistura de letras, números e caracteres especiais. O comprimento da senha deve ser fornecido pelo usuário. Se o comprimento for menor que 4, imprima uma mensagem de erro e peça ao usuário para fornecer um novo comprimento.\n",
    "\n",
    "A senha deve ser aleatória, então cada vez que o usuário executar o programa, uma nova senha deve ser gerada. Obrigatoriamente, a senha deve conter pelo menos uma letra, um número e um caractere especial. A senha não pode conter espaços em branco.\n",
    "\n",
    "O programa deve conter uma função chamada `gerar_senha` que recebe o comprimento da senha como parâmetro e retorna a senha gerada. Se o comprimento for inválido, a função deve retornar None.\n",
    "\n",
    "Exemplo de saída:\n",
    "\n",
    "```\n",
    "Digite o comprimento da senha: 10\n",
    "8Zn$*2q9X\n",
    "```\n",
    "\n",
    "- Dica: use a biblioteca random e a função shuffle para embaralhar os caracteres da senha.\n",
    "- Dica: use a função choice, dessa mesma biblioteca, para escolher um caractere aleatório de uma string.\n",
    "- Dica: use a biblioteca string para obter uma lista de caracteres válidos para a senha."
   ]
  },
  {
   "cell_type": "code",
   "execution_count": null,
   "id": "c8891b71",
   "metadata": {},
   "outputs": [
    {
     "name": "stdout",
     "output_type": "stream",
     "text": [
      "Zks!6XIv]0\n",
      "10\n"
     ]
    }
   ],
   "source": [
    "import random\n",
    "import string\n",
    "\n",
    "# comprimento = 10\n",
    "\n",
    "\n",
    "letras = string.ascii_letters\n",
    "numeros = string.digits\n",
    "caract = string.punctuation\n",
    "\n",
    "\n",
    "def gerar_senha(tamanho):\n",
    "  '''\n",
    "  Função que gera uma senha aleatória com no mínimo 1 número, 1 letra e 1 caracter especial.\n",
    "\n",
    "  Parameters\n",
    "  ----------\n",
    "  Tamanho: int\n",
    "    Um número inteiro definindo o tamanho da senha a ser gerada.\n",
    "\n",
    "  Return\n",
    "  ------\n",
    "  String\n",
    "    Retorna a senha gerada.\n",
    "  '''\n",
    "  if tamanho < 4:\n",
    "    print(\"O comprimento da senha precisa ter no mínimo 4 caracteres.\")\n",
    "    return None\n",
    "  else:\n",
    "    senha_gerada = []\n",
    "    senha_gerada.extend(random.choice(caract)) \n",
    "    senha_gerada.extend(random.choice(numeros))\n",
    "    senha_gerada.extend(random.choice(letras))\n",
    "    senha_gerada.extend(random.choices(\"\".join([letras, numeros, caract]), k= tamanho - 3))\n",
    "    random.shuffle(senha_gerada)\n",
    "    senha_gerada = \"\".join(senha_gerada)\n",
    "    return senha_gerada\n",
    "\n",
    "\n",
    "comprimento = int(input(\"Digite o comprimento da senha: \"))\n",
    "\n",
    "print(gerar_senha(comprimento))\n",
    "print(len(gerar_senha(comprimento)))\n",
    "\n",
    "ger"
   ]
  }
 ],
 "metadata": {
  "kernelspec": {
   "display_name": "Python 3",
   "language": "python",
   "name": "python3"
  },
  "language_info": {
   "codemirror_mode": {
    "name": "ipython",
    "version": 3
   },
   "file_extension": ".py",
   "mimetype": "text/x-python",
   "name": "python",
   "nbconvert_exporter": "python",
   "pygments_lexer": "ipython3",
   "version": "3.12.5"
  }
 },
 "nbformat": 4,
 "nbformat_minor": 5
}

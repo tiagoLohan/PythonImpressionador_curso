{
 "cells": [
  {
   "cell_type": "markdown",
   "id": "bc53556e-a539-4328-b873-fa5357312414",
   "metadata": {},
   "source": [
    "Crie um programa que analise um texto fornecido pelo usuário. O programa deve contar o número de palavras (independentemente se há repetição ou não), a quantidade de cada palavra e a quantidade de cada letra. Ignore maiúsculas e minúsculas ao contar letras (ou seja, transforme tudo para minúsculas). Faça o devido tratamento para pontuação e espaços ao contar palavras.\n",
    "\n",
    "O programa deve conter uma função chamada `analisar_texto` que recebe o texto como parâmetro e retorna a contagem de palavras, a frequência de palavras e a frequência de letras. A função deve ser devidamente documentada.\n",
    "\n",
    "Para o texto \"Olá mundo! Este é um teste. Olá novamente.\" o programa deve imprimir:\n",
    "\n",
    "```\n",
    "Contagem de palavras: 8\n",
    "Frequência de palavras: Counter({'Olá': 2, 'mundo': 1, 'Este': 1, 'é': 1, 'um': 1, 'teste': 1, 'novamente': 1})\n",
    "Frequência de letras: Counter({' ': 7, 'e': 6, 'o': 4, 't': 4, 'm': 3, 'n': 3, 'l': 2, 'á': 2, 'u': 2, 's': 2, 'd': 1, 'é': 1, 'v': 1, 'a': 1})\n",
    "```\n",
    "\n",
    "Dica: use o módulo `string` para obter uma lista de caracteres de pontuação. Exemplo:\n",
    "\n",
    "```python\n",
    "import string\n",
    "print(string.punctuation)\n",
    "```\n",
    "\n",
    "Dica: use o módulo `collections` para obter um contador de palavras e letras. Exemplo:\n",
    "\n",
    "```python\n",
    "from collections import Counter\n",
    "print(Counter(['a', 'b', 'a', 'c', 'b', 'a']))\n",
    "print(Counter('abacba'))\n",
    "``` "
   ]
  },
  {
   "cell_type": "code",
   "execution_count": null,
   "id": "8feda3f2-210f-4224-9b53-de7206c039ae",
   "metadata": {},
   "outputs": [
    {
     "name": "stdout",
     "output_type": "stream",
     "text": [
      "Contagem de palavras: 6\n",
      "Frequência de palavras: Counter({'Olá': 1, 'Meu': 1, 'nome': 1, 'é': 1, 'Tiago': 1, 'Lohan': 1})\n",
      "Frequência de letras: Counter({' ': 5, 'o': 4, 'l': 2, 'm': 2, 'e': 2, 'n': 2, 'a': 2, 'á': 1, 'u': 1, 'é': 1, 't': 1, 'i': 1, 'g': 1, 'h': 1})\n"
     ]
    }
   ],
   "source": [
    "# Pedir ao usario pra digitar um texto;\n",
    "# Criar uma função que:\n",
    "    # Conte o número de palavras nesse texto;\n",
    "        # Tirar espaços e pontuação;\n",
    "    # Conte a frequencia de cada palavra no texto;\n",
    "    # Conte a frequencia de cada letra no texto;\n",
    "        # Transformar tudo para minusculas;\n",
    "# Retornar 'contagem de palavras', 'frequencia de palavras' e 'frequencia de letras'.\n",
    "\n",
    "import string\n",
    "from collections import Counter\n",
    "\n",
    "\n",
    "texto = input(\"Digite um texto: \")\n",
    "\n",
    "def analisar_texto(texto):\n",
    "  '''\n",
    "  Analisa o texto fornecido e calcula a contagem de palavras, a frequencia de palavras\n",
    "  e frequência de letras.\n",
    "\n",
    "  Parameters\n",
    "  ----------\n",
    "  texto: str\n",
    "    Texto a ser analisado\n",
    "\n",
    "  Returns\n",
    "  -------\n",
    "  tuple\n",
    "    Contagem de palavras, frequencia de palavras, frequencia de letras\n",
    "  '''\n",
    "\n",
    "  texto = texto.translate(str.maketrans(\"\", \"\", string.punctuation))\n",
    "  palavras_separada = texto.split()\n",
    "  contagem_palavras = len(palavras_separada)\n",
    "  frequencia_palavras = Counter(palavras_separada)\n",
    "  texto = texto.lower()\n",
    "  frequencia_letras = Counter(texto)\n",
    "  return contagem_palavras, frequencia_palavras, frequencia_letras\n",
    "\n",
    "\n",
    "contagem_palavras, frequencia_palavras, frequencia_letras = analisar_texto(texto)\n",
    "\n",
    "print(f\"Contagem de palavras: {contagem_palavras}\")\n",
    "print(f\"Frequência de palavras: {frequencia_palavras}\")\n",
    "print(f\"Frequência de letras: {frequencia_letras}\")\n",
    "\n"
   ]
  }
 ],
 "metadata": {
  "kernelspec": {
   "display_name": "Python 3",
   "language": "python",
   "name": "python3"
  },
  "language_info": {
   "codemirror_mode": {
    "name": "ipython",
    "version": 3
   },
   "file_extension": ".py",
   "mimetype": "text/x-python",
   "name": "python",
   "nbconvert_exporter": "python",
   "pygments_lexer": "ipython3",
   "version": "3.12.5"
  }
 },
 "nbformat": 4,
 "nbformat_minor": 5
}

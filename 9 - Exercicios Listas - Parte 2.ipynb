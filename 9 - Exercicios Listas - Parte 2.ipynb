{
 "cells": [
  {
   "cell_type": "markdown",
   "metadata": {},
   "source": [
    "# Exercícios\n",
    "\n",
    "## 1. Mudança de Carga Tributária\n",
    "\n",
    "- Reformas e mudanças de cargas tributárias são bem comuns no Brasil.\n",
    "\n",
    "Digamos que você trabalhe em uma empresa de ecommerce\n",
    "\n",
    "No Brasil, o imposto sobre livros é zerado. De um ano para o outro, o governo criou um novo imposto que incide em 10% sobre o valor dos livros e agora você precisa alterar o registro dos preços dos livros da empresa para garantir que esse imposto vai ser repassado para o preço final do produto.\n",
    "\n",
    "Crie um código que recalcule o valor do livro da sua lista de produtos e ajuste na tabela.\n",
    "\n",
    "Além disso, calcule qual vai ser o impacto financeiro da criação desse imposto para a empresa (ou seja, quanto que o imposto vai aumentar de custo para a empresa)\n",
    "\n",
    "Obs: para facilitar, colocamos apenas 1 livro na lista, mas em breve vamos aprender um for que vai adaptar esse cenário para qualquer quantidade de livros na sua lista.\n",
    "\n",
    "Obs2: Seu código deve funcionar mesmo que não haja livros na lista de produtos da empresa"
   ]
  },
  {
   "cell_type": "code",
   "execution_count": 14,
   "metadata": {},
   "outputs": [
    {
     "name": "stdout",
     "output_type": "stream",
     "text": [
      "[[10000, 2500], [50000, 44.0], [7000, 1200], [20000, 1500], [5800, 1300], [7200, 2500], [200, 800], [3300, 700], [1900, 400]]\n"
     ]
    }
   ],
   "source": [
    "produtos = ['computador', 'livro', 'tablet', 'celular', 'tv', 'ar condicionado', 'alexa', 'máquina de café', 'kindle']\n",
    "\n",
    "#cada item da lista dos produtos corresponde a quantidade de vendas no mês e preço, nessa ordem\n",
    "produtos_ecommerce = [\n",
    "    [10000, 2500],\n",
    "    [50000, 40],\n",
    "    [7000, 1200],\n",
    "    [20000, 1500],\n",
    "    [5800, 1300],\n",
    "    [7200, 2500],\n",
    "    [200, 800],\n",
    "    [3300, 700],\n",
    "    [1900, 400]\n",
    "]\n",
    "\n",
    "if \"livro\" in produtos:\n",
    "        indice_livro = produtos.index(\"livro\")\n",
    "\n",
    "        valor_livro = produtos_ecommerce[indice_livro][1]\n",
    "        imposto = valor_livro * 0.10\n",
    "\n",
    "        produtos_ecommerce[indice_livro][1] += imposto\n",
    "        print(produtos_ecommerce)\n",
    "else:\n",
    "        print(\"Não temos livros na lista\")\n",
    "\n"
   ]
  }
 ],
 "metadata": {
  "kernelspec": {
   "display_name": "Python 3",
   "language": "python",
   "name": "python3"
  },
  "language_info": {
   "codemirror_mode": {
    "name": "ipython",
    "version": 3
   },
   "file_extension": ".py",
   "mimetype": "text/x-python",
   "name": "python",
   "nbconvert_exporter": "python",
   "pygments_lexer": "ipython3",
   "version": "3.12.5"
  }
 },
 "nbformat": 4,
 "nbformat_minor": 4
}

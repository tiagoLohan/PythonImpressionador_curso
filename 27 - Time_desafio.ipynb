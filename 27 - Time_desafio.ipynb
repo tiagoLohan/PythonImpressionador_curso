{
 "cells": [
  {
   "cell_type": "markdown",
   "metadata": {},
   "source": [
    "## Tempo até o próximo ano\n",
    "\n",
    "Crie um script Python que calcula quantos dias, horas, minutos e segundos faltam até o próximo Ano Novo.\n",
    "\n"
   ]
  },
  {
   "cell_type": "code",
   "execution_count": 19,
   "metadata": {
    "tags": []
   },
   "outputs": [
    {
     "name": "stdout",
     "output_type": "stream",
     "text": [
      "325.0 3884.0\n",
      "1.0 284.0\n",
      "4.0 44.0\n",
      "Para o ano novo, faltam 325.0 dias, 1.0 horas, 4.0minutos e 44.0 segundos\n"
     ]
    }
   ],
   "source": [
    "import time\n",
    "\n",
    "data_atual = time.localtime()\n",
    "data_ano_novo_str = (data_atual.tm_year + 1, 1, 1, 0, 0, 0, 0, 0, 0)\n",
    "\n",
    "tempo_falta = time.mktime(data_ano_novo_str) - time.mktime(data_atual)\n",
    "\n",
    "dias, segundos_resto = divmod(tempo_falta, 86400)\n",
    "print(dias, segundos_resto)\n",
    "horas, segundos_resto = divmod(segundos_resto, 3600)\n",
    "print(horas, segundos_resto)\n",
    "minutos, segundos_resto = divmod(segundos_resto, 60)\n",
    "print(minutos, segundos_resto)\n",
    "\n",
    "print(f\"Para o ano novo, faltam {dias} dias, {horas} horas, {minutos}minutos e {segundos_resto} segundos\")\n",
    "\n",
    "\n",
    "\n",
    "\n",
    "\n"
   ]
  }
 ],
 "metadata": {
  "kernelspec": {
   "display_name": "Python 3",
   "language": "python",
   "name": "python3"
  },
  "language_info": {
   "codemirror_mode": {
    "name": "ipython",
    "version": 3
   },
   "file_extension": ".py",
   "mimetype": "text/x-python",
   "name": "python",
   "nbconvert_exporter": "python",
   "pygments_lexer": "ipython3",
   "version": "3.12.5"
  }
 },
 "nbformat": 4,
 "nbformat_minor": 4
}

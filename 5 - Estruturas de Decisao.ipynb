{
 "cells": [
  {
   "cell_type": "markdown",
   "id": "8535c274",
   "metadata": {
    "id": "8535c274"
   },
   "source": [
    "# Estruturas de decisão\n",
    "\n",
    "<span style=\"color: red;\"><b>Todos os exercícios são feitos partindo-se do pressuposto de que todas as entradas são dadas de forma correta. Casos limite não mencionados no enunciado não são abordados porque não fazem parte do exercício.</b></span>"
   ]
  },
  {
   "cell_type": "markdown",
   "id": "9c3d817e",
   "metadata": {
    "id": "9c3d817e"
   },
   "source": [
    "#### 1. Faça um Programa que peça dois números e imprima o maior deles."
   ]
  },
  {
   "cell_type": "code",
   "execution_count": 2,
   "id": "ae45c028",
   "metadata": {
    "id": "ae45c028"
   },
   "outputs": [
    {
     "name": "stdout",
     "output_type": "stream",
     "text": [
      "O número 500000 é maior que 500\n"
     ]
    }
   ],
   "source": [
    "num1 = int(input(\"Digite o primeiro numero\"))\n",
    "num2 = int(input(\"Digite o segundo número\"))\n",
    "\n",
    "if num1 > num2:\n",
    "  print(f\"O número {num1} é maior que {num2}\")\n",
    "else:\n",
    "  print(f\"O número {num2} é maior que {num1}\")\n"
   ]
  },
  {
   "cell_type": "markdown",
   "id": "ff510803",
   "metadata": {
    "id": "ff510803"
   },
   "source": [
    "#### 2. Faça um Programa que peça um valor e mostre na tela se o valor é positivo ou negativo."
   ]
  },
  {
   "cell_type": "code",
   "execution_count": 8,
   "id": "8952f58f",
   "metadata": {
    "id": "8952f58f"
   },
   "outputs": [
    {
     "name": "stdout",
     "output_type": "stream",
     "text": [
      "O número -10 é negativo.\n"
     ]
    }
   ],
   "source": [
    "num = int(input(\"Digite um numero:\"))\n",
    "\n",
    "if num > 0:\n",
    "  print(f\"O número {num} é positivo.\")\n",
    "else:\n",
    "  print(f\"O número {num} é negativo.\")\n"
   ]
  },
  {
   "cell_type": "markdown",
   "id": "6966546b",
   "metadata": {
    "id": "6966546b"
   },
   "source": [
    "#### 3. Faça um Programa que verifique o estado civil de uma pessoa. Se a letra digitada é \"C\" (Casado), \"S\" (Solteiro), \"D\" (Divorciado), \"V\" (Viúvo) ou \"O\" (outros). Conforme a letra escrita pelo usuário seu programa deve escrever o estado civil, exemplo:\n",
    "\n",
    "Usuário digita: C\n",
    "\n",
    "Seu programa deve responder:\n",
    "C - Casado"
   ]
  },
  {
   "cell_type": "code",
   "execution_count": 13,
   "id": "876a1e67",
   "metadata": {
    "id": "876a1e67"
   },
   "outputs": [
    {
     "name": "stdout",
     "output_type": "stream",
     "text": [
      "C - Casado\n"
     ]
    }
   ],
   "source": [
    "letra = input(\"Digite a primeira letra do seu estado civil\")\n",
    "\n",
    "if letra == \"C\":\n",
    "  print(f\"C - Casado\")\n",
    "\n",
    "elif letra == \"S\":\n",
    "  print(\"S - Solteiro\")\n",
    "\n",
    "elif letra == \"D\":\n",
    "  print(\"D - Divorciado\")\n",
    "\n",
    "elif letra == \"V\":\n",
    "  print(\"V - Viúvo\")\n",
    "\n",
    "elif letra == \"O\":\n",
    "  print(\"O - Outros\")"
   ]
  },
  {
   "cell_type": "markdown",
   "id": "c122c0cf",
   "metadata": {
    "id": "c122c0cf"
   },
   "source": [
    "#### 4. Faça um Programa que verifique se o e-mail digitado faz parte dos e-mails de spam."
   ]
  },
  {
   "cell_type": "code",
   "execution_count": 15,
   "id": "59bed184",
   "metadata": {
    "id": "59bed184"
   },
   "outputs": [
    {
     "name": "stdout",
     "output_type": "stream",
     "text": [
      "O e-mail digitado faz parte da relação de spams.\n"
     ]
    }
   ],
   "source": [
    "emails_spam = \"fulano@gmail.com,beltrano@gmail.com,ciclano@gmail.com\"\n",
    "\n",
    "email = input(\"Digite um e-mail\")\n",
    "\n",
    "if email in emails_spam:\n",
    "  print(f\"O e-mail digitado faz parte da relação de spams.\")\n",
    "else:\n",
    "  print(\"Email ok\")\n"
   ]
  },
  {
   "cell_type": "markdown",
   "id": "487ee073",
   "metadata": {
    "id": "487ee073"
   },
   "source": [
    "#### 5. Faça um programa para a leitura de duas notas parciais de um aluno. O programa deve calcular a média alcançada por aluno e apresentar:\n",
    "\n",
    "##### A mensagem \"Aprovado\", se a média alcançada for maior ou igual a sete;\n",
    "##### A mensagem \"Reprovado\", se a média for menor do que sete;\n",
    "##### A mensagem \"Aprovado com Distinção\", se a média for igual a dez."
   ]
  },
  {
   "cell_type": "code",
   "execution_count": 19,
   "id": "7f5c7096",
   "metadata": {
    "id": "7f5c7096"
   },
   "outputs": [
    {
     "name": "stdout",
     "output_type": "stream",
     "text": [
      "Média: 6.75, Reprovado\n"
     ]
    }
   ],
   "source": [
    "nota1 = float(input(\"Digite a primeira nota\"))\n",
    "nota2 = float(input(\"Digite a segunda nota\"))\n",
    "\n",
    "media = (nota1 + nota2) / 2\n",
    "\n",
    "if media == 10:\n",
    "  print(f\"Média: {media}, Aprovado com Distinção\")\n",
    "\n",
    "elif media >= 7:\n",
    "  print(f\"Média: {media}, Aprovado\")\n",
    "\n",
    "elif media < 7:\n",
    "  print(f\"Média: {media}, Reprovado\")\n",
    "\n"
   ]
  },
  {
   "cell_type": "markdown",
   "id": "6dd3f171",
   "metadata": {
    "id": "6dd3f171"
   },
   "source": [
    "#### 6. Faça um Programa que leia o orçamento de 3 empresas e mostre o maior deles."
   ]
  },
  {
   "cell_type": "code",
   "execution_count": 22,
   "id": "51b591e5",
   "metadata": {
    "id": "51b591e5"
   },
   "outputs": [
    {
     "name": "stdout",
     "output_type": "stream",
     "text": [
      "O maior orçando foi da empresa 1, com R$15000.0\n"
     ]
    }
   ],
   "source": [
    "empresa1 = float(input(\"Digite o orçamento da empresa 1\"))\n",
    "empresa2 = float(input(\"Digite o orçamento da empresa 2\"))\n",
    "empresa3 = float(input(\"Digite o orçamento da empresa 3\"))\n",
    "\n",
    "if empresa1 > empresa2 and empresa1 > empresa3:\n",
    "  print(f\"O maior orçando foi da empresa 1, com R${empresa1}\")\n",
    "\n",
    "elif  empresa2 > empresa1 and empresa2 > empresa3:\n",
    "  print(f\"O maior orçando foi da empresa 2, com R${empresa2}\")\n",
    "\n",
    "elif empresa3 > empresa1 and empresa3 > empresa2:\n",
    "  print(f\"O maior orçando foi da empresa 3, com R${empresa3}\")\n"
   ]
  },
  {
   "cell_type": "markdown",
   "id": "ce09ed1c",
   "metadata": {
    "id": "ce09ed1c"
   },
   "source": [
    "#### 7. Faça um Programa que leia três orçamentos e mostre o maior e o menor deles."
   ]
  },
  {
   "cell_type": "code",
   "execution_count": 23,
   "id": "249f1eb8",
   "metadata": {
    "id": "249f1eb8"
   },
   "outputs": [
    {
     "name": "stdout",
     "output_type": "stream",
     "text": [
      "O maior orçando foi da empresa 2, com R$8000.0\n",
      "O menor orçando foi da empresa 3, com R$2000.0\n"
     ]
    }
   ],
   "source": [
    "empresa1 = float(input(\"Digite o orçamento da empresa 1\"))\n",
    "empresa2 = float(input(\"Digite o orçamento da empresa 2\"))\n",
    "empresa3 = float(input(\"Digite o orçamento da empresa 3\"))\n",
    "maior = 0\n",
    "menor = 0\n",
    "\n",
    "if empresa1 > empresa2 and empresa1 > empresa3:\n",
    "  print(f\"O maior orçando foi da empresa 1, com R${empresa1}\")\n",
    "\n",
    "elif  empresa2 > empresa1 and empresa2 > empresa3:\n",
    "  print(f\"O maior orçando foi da empresa 2, com R${empresa2}\")\n",
    "\n",
    "elif empresa3 > empresa1 and empresa3 > empresa2:\n",
    "  print(f\"O maior orçando foi da empresa 3, com R${empresa3}\")\n",
    "\n",
    "if empresa1 < empresa2 and empresa1 < empresa3:\n",
    "  print(f\"O menor orçando foi da empresa 1, com R${empresa1}\")\n",
    "\n",
    "elif  empresa2 < empresa1 and empresa2 < empresa3:\n",
    "  print(f\"O menor orçando foi da empresa 2, com R${empresa2}\")\n",
    "\n",
    "elif empresa3 < empresa1 and empresa3 < empresa2:\n",
    "  print(f\"O menor orçando foi da empresa 3, com R${empresa3}\")"
   ]
  },
  {
   "cell_type": "markdown",
   "id": "7453d43a",
   "metadata": {
    "id": "7453d43a"
   },
   "source": [
    "#### 8. Faça um programa que pergunte o preço de três produtos e informe qual produto você deve comprar, sabendo que a decisão é sempre pelo mais barato."
   ]
  },
  {
   "cell_type": "code",
   "execution_count": 24,
   "id": "26a9503e",
   "metadata": {
    "id": "26a9503e"
   },
   "outputs": [
    {
     "name": "stdout",
     "output_type": "stream",
     "text": [
      "Você deve comprar o produto 3, por ser o menor preço. (R$7.0)\n"
     ]
    }
   ],
   "source": [
    "produto1 = float(input(\"Digite o preco do primeiro produto\"))\n",
    "produto2 = float(input(\"Digite o preco do segundo produto\"))\n",
    "produto3 = float(input(\"Digite o preco do terceiro produto\"))\n",
    "\n",
    "if produto1 < produto2 and produto1 < produto3:\n",
    "  print(f\"Você deve comprar o produto 1, por ser o menor preço. (R${produto1})\")\n",
    "elif produto2 < produto1 and produto2 < produto3:\n",
    "  print(f\"Você deve comprar o produto 2, por ser o menor preço. (R${produto2})\")\n",
    "elif produto3 < produto1 and produto3 < produto2:\n",
    "  print(f\"Você deve comprar o produto 3, por ser o menor preço. (R${produto3})\")\n",
    "\n"
   ]
  }
 ],
 "metadata": {
  "colab": {
   "provenance": []
  },
  "kernelspec": {
   "display_name": "Python 3",
   "language": "python",
   "name": "python3"
  },
  "language_info": {
   "codemirror_mode": {
    "name": "ipython",
    "version": 3
   },
   "file_extension": ".py",
   "mimetype": "text/x-python",
   "name": "python",
   "nbconvert_exporter": "python",
   "pygments_lexer": "ipython3",
   "version": "3.12.5"
  }
 },
 "nbformat": 4,
 "nbformat_minor": 5
}
